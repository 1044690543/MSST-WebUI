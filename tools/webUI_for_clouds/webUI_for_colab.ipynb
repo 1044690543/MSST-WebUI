{
 "cells": [
  {
   "cell_type": "code",
   "execution_count": null,
   "metadata": {},
   "outputs": [],
   "source": [
    "#@title Connect to colab runtime and check GPU\n",
    "#@markdown # Connect to colab runtime and check GPU\n",
    "#@markdown\n",
    "\n",
    "!nvidia-smi"
   ]
  },
  {
   "cell_type": "code",
   "execution_count": null,
   "metadata": {},
   "outputs": [],
   "source": [
    "#@title Clone repository and install requirements\n",
    "#@markdown # Clone repository and install requirements\n",
    "#@markdown\n",
    "#@markdown ### You may need to rerun this cell for a few times\n",
    "#@markdown\n",
    "\n",
    "!git clone https://github.com/SUC-DriverOld/MSST-WebUI.git\n",
    "%cd /content/MSST-WebUI\n",
    "%pip install --upgrade pip setuptools\n",
    "%pip install torch torchvision torchaudio --index-url https://download.pytorch.org/whl/cu121\n",
    "%pip install -r requirements.txt\n",
    "%pip install tools/webUI_for_clouds/librosa-0.9.2-py3-none-any.whl"
   ]
  },
  {
   "cell_type": "code",
   "execution_count": null,
   "metadata": {},
   "outputs": [],
   "source": [
    "#@title Download SOME weights if needed\n",
    "#@markdown # Download SOME weights if needed\n",
    "#@markdown\n",
    "#@markdown ### If you want to use \"Vocals to MIDI\", download the weights.\n",
    "#@markdown\n",
    "\n",
    "!wget https://huggingface.co/Sucial/SOME_Models/resolve/main/model_steps_64000_simplified.ckpt -O /content/MSST-WebUI/tools/SOME_weights/model_steps_64000_simplified.ckpt"
   ]
  },
  {
   "cell_type": "code",
   "execution_count": null,
   "metadata": {},
   "outputs": [],
   "source": [
    "#@title Select WebUI Language and initialize WebUI\n",
    "#@markdown # Select WebUI Language and initialize WebUI\n",
    "#@markdown\n",
    "#@markdown ### Select the language you want to use for the WebUI.\n",
    "#@markdown\n",
    "%cd /content/MSST-WebUI\n",
    "\n",
    "LANGUAGE = \"English\" #@param [\"Auto\", \"English\", \"简体中文\", \"繁體中文\", \"日本語\", \"😊\"]\n",
    "\n",
    "import json\n",
    "import os\n",
    "import shutil\n",
    "\n",
    "language_dict = {\n",
    "    \"Auto\": \"Auto\",\n",
    "    \"简体中文\": \"zh_CN\",\n",
    "    \"繁體中文\": \"zh_TW\",\n",
    "    \"English\": \"en_US\",\n",
    "    \"日本語\": \"ja_JP\",\n",
    "    \"😊\": \"emoji\"\n",
    "    }\n",
    "\n",
    "if not os.path.exists(\"data\"):\n",
    "    shutil.copytree(\"data_backup\", \"data\")\n",
    "if not os.path.exists(\"configs\"):\n",
    "    shutil.copytree(\"configs_backup\", \"configs\")\n",
    "if not os.path.exists(\"configs_template\"):\n",
    "    shutil.copytree(\"configs_backup\", \"configs_template\")\n",
    "if not os.path.exists(\"input\"): os.makedirs(\"input\")\n",
    "if not os.path.exists(\"results\"): os.makedirs(\"results\")\n",
    "\n",
    "with open(\"data/webui_config.json\", 'r', encoding=\"utf-8\") as f:\n",
    "    config = json.load(f)\n",
    "    config['settings']['language'] = language_dict[LANGUAGE]\n",
    "with open(\"data/webui_config.json\", 'w', encoding=\"utf-8\") as f:\n",
    "    json.dump(config, f, indent=4)"
   ]
  },
  {
   "cell_type": "code",
   "execution_count": null,
   "metadata": {},
   "outputs": [],
   "source": [
    "#@title Start WebUI\n",
    "#@markdown # Start WebUI\n",
    "#@markdown\n",
    "#@markdown ### After running this cell, you can use your own device to connect to WebUI. The public link will be displayed below.\n",
    "\n",
    "%cd /content/MSST-WebUI\n",
    "!python tools/webUI_for_clouds/webUI_for_clouds.py"
   ]
  }
 ],
 "metadata": {
  "language_info": {
   "name": "python"
  }
 },
 "nbformat": 4,
 "nbformat_minor": 2
}
